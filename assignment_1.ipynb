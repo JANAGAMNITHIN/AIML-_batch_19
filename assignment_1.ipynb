{
  "nbformat": 4,
  "nbformat_minor": 0,
  "metadata": {
    "colab": {
      "provenance": [],
      "authorship_tag": "ABX9TyO5xpTKGSpR9hEW/JTlIGKH",
      "include_colab_link": true
    },
    "kernelspec": {
      "name": "python3",
      "display_name": "Python 3"
    },
    "language_info": {
      "name": "python"
    }
  },
  "cells": [
    {
      "cell_type": "markdown",
      "metadata": {
        "id": "view-in-github",
        "colab_type": "text"
      },
      "source": [
        "<a href=\"https://colab.research.google.com/github/JANAGAMNITHIN/AIML-_batch_19/blob/main/assignment_1.ipynb\" target=\"_parent\"><img src=\"https://colab.research.google.com/assets/colab-badge.svg\" alt=\"Open In Colab\"/></a>"
      ]
    },
    {
      "cell_type": "code",
      "execution_count": null,
      "metadata": {
        "id": "N5d6q24kTF6l"
      },
      "outputs": [],
      "source": [
        "import numpy as np\n",
        "arr1=np.array([1,2,3,4,5])\n",
        "arr2=np.array([1,3,2,4,5])\n",
        "arr3=arr1+arr2\n",
        "arr4=arr1*arr3\n",
        "arr5=arr1-arr4\n",
        "arr6=arr3/arr4\n",
        "print(\"the product of array is\",arr4)\n",
        "print(\"the multiplication of array is\",arr3)\n",
        "print(\"the substration of array is\",arr5)\n",
        "print(\"the divide of array is\",arr6)"
      ]
    }
  ]
}